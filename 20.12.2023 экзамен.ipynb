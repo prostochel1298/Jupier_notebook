{
 "cells": [
  {
   "cell_type": "code",
   "execution_count": 50,
   "id": "6745a7df",
   "metadata": {},
   "outputs": [
    {
     "name": "stderr",
     "output_type": "stream",
     "text": [
      "C:\\Users\\Admin\\AppData\\Local\\Temp\\ipykernel_4776\\4251557191.py:10: FutureWarning: The default value of numeric_only in DataFrameGroupBy.mean is deprecated. In a future version, numeric_only will default to False. Either specify numeric_only or select only columns which should be valid for the function.\n",
      "  napitki = df.groupby([\"Пиво\",\"Безалкогольные напитки\"]).mean()\n"
     ]
    },
    {
     "data": {
      "text/html": [
       "<div>\n",
       "<style scoped>\n",
       "    .dataframe tbody tr th:only-of-type {\n",
       "        vertical-align: middle;\n",
       "    }\n",
       "\n",
       "    .dataframe tbody tr th {\n",
       "        vertical-align: top;\n",
       "    }\n",
       "\n",
       "    .dataframe thead th {\n",
       "        text-align: right;\n",
       "    }\n",
       "</style>\n",
       "<table border=\"1\" class=\"dataframe\">\n",
       "  <thead>\n",
       "    <tr style=\"text-align: right;\">\n",
       "      <th></th>\n",
       "      <th>Пиво</th>\n",
       "      <th>Безалкогольные напитки</th>\n",
       "    </tr>\n",
       "  </thead>\n",
       "  <tbody>\n",
       "    <tr>\n",
       "      <th>1</th>\n",
       "      <td>Карлберг</td>\n",
       "      <td>Пепси</td>\n",
       "    </tr>\n",
       "    <tr>\n",
       "      <th>2</th>\n",
       "      <td>Бад</td>\n",
       "      <td>Кола</td>\n",
       "    </tr>\n",
       "    <tr>\n",
       "      <th>3</th>\n",
       "      <td>Балтика</td>\n",
       "      <td>Спрайт</td>\n",
       "    </tr>\n",
       "    <tr>\n",
       "      <th>4</th>\n",
       "      <td>Толстяк</td>\n",
       "      <td>Леденцы</td>\n",
       "    </tr>\n",
       "    <tr>\n",
       "      <th>5</th>\n",
       "      <td>Балтика</td>\n",
       "      <td>None</td>\n",
       "    </tr>\n",
       "    <tr>\n",
       "      <th>6</th>\n",
       "      <td>Толстяк</td>\n",
       "      <td>None</td>\n",
       "    </tr>\n",
       "    <tr>\n",
       "      <th>7</th>\n",
       "      <td>Пит</td>\n",
       "      <td>None</td>\n",
       "    </tr>\n",
       "    <tr>\n",
       "      <th>8</th>\n",
       "      <td>Гараж</td>\n",
       "      <td>None</td>\n",
       "    </tr>\n",
       "  </tbody>\n",
       "</table>\n",
       "</div>"
      ],
      "text/plain": [
       "       Пиво Безалкогольные напитки\n",
       "1  Карлберг                  Пепси\n",
       "2       Бад                   Кола\n",
       "3   Балтика                 Спрайт\n",
       "4   Толстяк                Леденцы\n",
       "5   Балтика                   None\n",
       "6   Толстяк                   None\n",
       "7       Пит                   None\n",
       "8     Гараж                   None"
      ]
     },
     "execution_count": 50,
     "metadata": {},
     "output_type": "execute_result"
    }
   ],
   "source": [
    "import pandas as pd\n",
    "import numpy as np\n",
    "\n",
    "\n",
    "lst = [[\"Карлберг\",\"Пепси\",\"Кольца Кальмара\",\"Леденцы\",],[\"Бад\",\"Кола\",\"Свиные уши\",\"Сигареты\"],[\"Балтика\",\"Спрайт\",\"Лосось\",\"Спички\"],\n",
    "[\"Толстяк\",\"Леденцы\",\"Минтай\",\"Зажигалки\"],[\"Балтика\",\"None\",\"Сыр\",\"Игрушки\"],[\"Толстяк\",\"None\",\"Лещь\",\"Мороженное\"],[\"Пит\",\"None\",\"Орешки\",\"Конфетки\"],[\"Гараж\",\"None\",\"None\",\"Симкарты\"]]\n",
    "col=[\"Пиво\",\"Безалкогольные напитки\",\"Закуски\",\"Иная продукция\"]\n",
    "df = pd.DataFrame(lst,columns = col)\n",
    "df.index = [1,2,3,4,5,6,7,8]\n",
    "napitki = df.groupby([\"Пиво\",\"Безалкогольные напитки\"]).mean()\n",
    "nenapitki = df.groupby([\"Закуски\",\"Иная продукция\"]).mean\n",
    "\n",
    "nap = df[[\"Пиво\",\"Безалкогольные напитки\"]]\n",
    "nenap = df[[\"Закуски\",\"Иная продукция\"]]\n",
    "\n",
    "nap"
   ]
  },
  {
   "cell_type": "code",
   "execution_count": null,
   "id": "e0b5257d",
   "metadata": {},
   "outputs": [],
   "source": []
  },
  {
   "cell_type": "code",
   "execution_count": null,
   "id": "f1e93ebd",
   "metadata": {},
   "outputs": [],
   "source": []
  },
  {
   "cell_type": "code",
   "execution_count": null,
   "id": "cee1fd2d",
   "metadata": {},
   "outputs": [],
   "source": []
  }
 ],
 "metadata": {
  "kernelspec": {
   "display_name": "Python 3 (ipykernel)",
   "language": "python",
   "name": "python3"
  },
  "language_info": {
   "codemirror_mode": {
    "name": "ipython",
    "version": 3
   },
   "file_extension": ".py",
   "mimetype": "text/x-python",
   "name": "python",
   "nbconvert_exporter": "python",
   "pygments_lexer": "ipython3",
   "version": "3.11.4"
  }
 },
 "nbformat": 4,
 "nbformat_minor": 5
}
