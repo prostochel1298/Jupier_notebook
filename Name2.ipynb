{
 "cells": [
  {
   "cell_type": "code",
   "execution_count": null,
   "id": "52e74e3f",
   "metadata": {},
   "outputs": [],
   "source": [
    "import pandas as pd \n",
    "import numpy as np"
   ]
  },
  {
   "cell_type": "code",
   "execution_count": null,
   "id": "93e1ef25",
   "metadata": {},
   "outputs": [],
   "source": [
    "song=[\"Северные ветра\",\"Мороз по коже\",\"Лесник\",\"Зеркала\"]\n",
    "artist=[\"Мукка\",\"Сплин\",\"Король и шут\",\"Скриптонит\"]\n"
   ]
  },
  {
   "cell_type": "code",
   "execution_count": 5,
   "id": "4d0d721c",
   "metadata": {},
   "outputs": [
    {
     "data": {
      "text/html": [
       "<div>\n",
       "<style scoped>\n",
       "    .dataframe tbody tr th:only-of-type {\n",
       "        vertical-align: middle;\n",
       "    }\n",
       "\n",
       "    .dataframe tbody tr th {\n",
       "        vertical-align: top;\n",
       "    }\n",
       "\n",
       "    .dataframe thead th {\n",
       "        text-align: right;\n",
       "    }\n",
       "</style>\n",
       "<table border=\"1\" class=\"dataframe\">\n",
       "  <thead>\n",
       "    <tr style=\"text-align: right;\">\n",
       "      <th></th>\n",
       "      <th>artist</th>\n",
       "      <th>song</th>\n",
       "    </tr>\n",
       "  </thead>\n",
       "  <tbody>\n",
       "    <tr>\n",
       "      <th>0</th>\n",
       "      <td>Мукка</td>\n",
       "      <td>Северные ветра</td>\n",
       "    </tr>\n",
       "    <tr>\n",
       "      <th>1</th>\n",
       "      <td>Сплин</td>\n",
       "      <td>Мороз по коже</td>\n",
       "    </tr>\n",
       "    <tr>\n",
       "      <th>2</th>\n",
       "      <td>Король и шут</td>\n",
       "      <td>Лесник</td>\n",
       "    </tr>\n",
       "    <tr>\n",
       "      <th>3</th>\n",
       "      <td>Скриптонит</td>\n",
       "      <td>Зеркала</td>\n",
       "    </tr>\n",
       "  </tbody>\n",
       "</table>\n",
       "</div>"
      ],
      "text/plain": [
       "         artist            song\n",
       "0         Мукка  Северные ветра\n",
       "1         Сплин   Мороз по коже\n",
       "2  Король и шут          Лесник\n",
       "3    Скриптонит         Зеркала"
      ]
     },
     "execution_count": 5,
     "metadata": {},
     "output_type": "execute_result"
    }
   ],
   "source": [
    "songart = {\"artist\":artist,\n",
    "          \"song\":song}\n",
    "songart2 = pd.DataFrame(songart)\n",
    "songart2"
   ]
  },
  {
   "cell_type": "code",
   "execution_count": null,
   "id": "e668601f",
   "metadata": {},
   "outputs": [],
   "source": []
  },
  {
   "cell_type": "code",
   "execution_count": 19,
   "id": "dad01bea",
   "metadata": {},
   "outputs": [
    {
     "data": {
      "text/html": [
       "<div>\n",
       "<style scoped>\n",
       "    .dataframe tbody tr th:only-of-type {\n",
       "        vertical-align: middle;\n",
       "    }\n",
       "\n",
       "    .dataframe tbody tr th {\n",
       "        vertical-align: top;\n",
       "    }\n",
       "\n",
       "    .dataframe thead th {\n",
       "        text-align: right;\n",
       "    }\n",
       "</style>\n",
       "<table border=\"1\" class=\"dataframe\">\n",
       "  <thead>\n",
       "    <tr style=\"text-align: right;\">\n",
       "      <th></th>\n",
       "      <th>artist</th>\n",
       "      <th>song</th>\n",
       "    </tr>\n",
       "  </thead>\n",
       "  <tbody>\n",
       "    <tr>\n",
       "      <th>1</th>\n",
       "      <td>Мукка</td>\n",
       "      <td>Северные ветра</td>\n",
       "    </tr>\n",
       "    <tr>\n",
       "      <th>3</th>\n",
       "      <td>Сплин</td>\n",
       "      <td>Мороз по коже</td>\n",
       "    </tr>\n",
       "    <tr>\n",
       "      <th>5</th>\n",
       "      <td>Король и шут</td>\n",
       "      <td>Лесник</td>\n",
       "    </tr>\n",
       "    <tr>\n",
       "      <th>7</th>\n",
       "      <td>Скриптонит</td>\n",
       "      <td>Зеркала</td>\n",
       "    </tr>\n",
       "  </tbody>\n",
       "</table>\n",
       "</div>"
      ],
      "text/plain": [
       "         artist            song\n",
       "1         Мукка  Северные ветра\n",
       "3         Сплин   Мороз по коже\n",
       "5  Король и шут          Лесник\n",
       "7    Скриптонит         Зеркала"
      ]
     },
     "execution_count": 19,
     "metadata": {},
     "output_type": "execute_result"
    }
   ],
   "source": [
    "x = list()\n",
    "b = 1\n",
    "while b <=8:\n",
    "    x.append(b)\n",
    "    b+=2\n",
    "songart2.index = x\n",
    "songart2\n",
    "        \n",
    "    \n",
    "    "
   ]
  },
  {
   "cell_type": "code",
   "execution_count": 39,
   "id": "1dd05ff1",
   "metadata": {},
   "outputs": [
    {
     "data": {
      "text/html": [
       "<div>\n",
       "<style scoped>\n",
       "    .dataframe tbody tr th:only-of-type {\n",
       "        vertical-align: middle;\n",
       "    }\n",
       "\n",
       "    .dataframe tbody tr th {\n",
       "        vertical-align: top;\n",
       "    }\n",
       "\n",
       "    .dataframe thead th {\n",
       "        text-align: right;\n",
       "    }\n",
       "</style>\n",
       "<table border=\"1\" class=\"dataframe\">\n",
       "  <thead>\n",
       "    <tr style=\"text-align: right;\">\n",
       "      <th></th>\n",
       "      <th>Год</th>\n",
       "      <th>Жанр</th>\n",
       "      <th>Название фильма</th>\n",
       "    </tr>\n",
       "  </thead>\n",
       "  <tbody>\n",
       "    <tr>\n",
       "      <th>0</th>\n",
       "      <td>1994</td>\n",
       "      <td>Драма</td>\n",
       "      <td>Побег из Шоушенка</td>\n",
       "    </tr>\n",
       "    <tr>\n",
       "      <th>1</th>\n",
       "      <td>1999</td>\n",
       "      <td>Фентези</td>\n",
       "      <td>Зеленая миля</td>\n",
       "    </tr>\n",
       "    <tr>\n",
       "      <th>2</th>\n",
       "      <td>1994</td>\n",
       "      <td>Мелодрама</td>\n",
       "      <td>Форест Гамп</td>\n",
       "    </tr>\n",
       "    <tr>\n",
       "      <th>3</th>\n",
       "      <td>1965</td>\n",
       "      <td>комедия</td>\n",
       "      <td>Операция 'Ы' и другие приключения Шурика</td>\n",
       "    </tr>\n",
       "    <tr>\n",
       "      <th>4</th>\n",
       "      <td>1999</td>\n",
       "      <td>Триллер</td>\n",
       "      <td>Бойцовский клуб</td>\n",
       "    </tr>\n",
       "    <tr>\n",
       "      <th>5</th>\n",
       "      <td>2010</td>\n",
       "      <td>Фантастика</td>\n",
       "      <td>Начало</td>\n",
       "    </tr>\n",
       "  </tbody>\n",
       "</table>\n",
       "</div>"
      ],
      "text/plain": [
       "    Год        Жанр                           Название фильма\n",
       "0  1994       Драма                         Побег из Шоушенка\n",
       "1  1999     Фентези                              Зеленая миля\n",
       "2  1994   Мелодрама                               Форест Гамп\n",
       "3  1965     комедия  Операция 'Ы' и другие приключения Шурика\n",
       "4  1999     Триллер                           Бойцовский клуб\n",
       "5  2010  Фантастика                                    Начало"
      ]
     },
     "execution_count": 39,
     "metadata": {},
     "output_type": "execute_result"
    }
   ],
   "source": [
    "lst1 = [{\"Название фильма\":\"Побег из Шоушенка\",\"Жанр\":\"Драма\",\"Год\":1994},\n",
    "                         {\"Название фильма\":\"Зеленая миля\",\"Жанр\":\"Фентези\",\"Год\":1999},\n",
    "                        {\"Название фильма\":\"Форест Гамп\",\"Жанр\":\"Мелодрама\",\"Год\":1994},\n",
    "                        {\"Название фильма\":\"Операция 'Ы' и другие приключения Шурика\",\"Жанр\":\"комедия\",\"Год\":1965},\n",
    "                        {\"Название фильма\":\"Бойцовский клуб\",\"Жанр\":\"Триллер\",\"Год\":1999},\n",
    "                        {\"Название фильма\":\"Начало\",\"Жанр\":\"Фантастика\",\"Год\":2010}]\n",
    "lst2 = list()\n",
    "a = list(lst1[1].keys())\n",
    "for i in range(len(a)):\n",
    "    c = min(a)\n",
    "    lst2.append(c)\n",
    "    a.remove(c)\n",
    "\n",
    "\n",
    "alfach = pd.DataFrame(lst1, columns = lst2)\n",
    "alfach\n",
    "    \n",
    "\n",
    "\n",
    "\n"
   ]
  },
  {
   "cell_type": "code",
   "execution_count": null,
   "id": "b4f30f81",
   "metadata": {},
   "outputs": [],
   "source": []
  }
 ],
 "metadata": {
  "kernelspec": {
   "display_name": "Python 3 (ipykernel)",
   "language": "python",
   "name": "python3"
  },
  "language_info": {
   "codemirror_mode": {
    "name": "ipython",
    "version": 3
   },
   "file_extension": ".py",
   "mimetype": "text/x-python",
   "name": "python",
   "nbconvert_exporter": "python",
   "pygments_lexer": "ipython3",
   "version": "3.11.4"
  }
 },
 "nbformat": 4,
 "nbformat_minor": 5
}
