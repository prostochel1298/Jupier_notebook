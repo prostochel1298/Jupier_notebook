{
 "cells": [
  {
   "cell_type": "code",
   "execution_count": 6,
   "id": "1efa90ae",
   "metadata": {},
   "outputs": [],
   "source": [
    "import numpy as np\n",
    "import pandas as pd\n",
    "\n",
    "dt_frame = pd.DataFrame(np.array([[\"Алексей\",\"Пицца пепперони\"],[\"Александр\",\"гречка\"],[\"Игорь\",\"спагетти\"],[\"Василий\",\"стейк\"],[\"Анна\",\"термису\"]]),columns = [\"Имя\",\"Блюдо\"])\n",
    "dt_frame\n",
    "dt_frame.to_csv(\"блюдоИмя\",index = True)"
   ]
  },
  {
   "cell_type": "code",
   "execution_count": null,
   "id": "bac4e534",
   "metadata": {},
   "outputs": [],
   "source": []
  },
  {
   "cell_type": "code",
   "execution_count": null,
   "id": "97f100c9",
   "metadata": {},
   "outputs": [],
   "source": []
  }
 ],
 "metadata": {
  "kernelspec": {
   "display_name": "Python 3 (ipykernel)",
   "language": "python",
   "name": "python3"
  },
  "language_info": {
   "codemirror_mode": {
    "name": "ipython",
    "version": 3
   },
   "file_extension": ".py",
   "mimetype": "text/x-python",
   "name": "python",
   "nbconvert_exporter": "python",
   "pygments_lexer": "ipython3",
   "version": "3.11.4"
  }
 },
 "nbformat": 4,
 "nbformat_minor": 5
}
