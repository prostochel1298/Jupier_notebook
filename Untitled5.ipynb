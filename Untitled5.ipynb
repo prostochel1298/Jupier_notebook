{
 "cells": [
  {
   "cell_type": "code",
   "execution_count": 6,
   "id": "c3805d7a",
   "metadata": {},
   "outputs": [],
   "source": [
    "import pandas as pd\n",
    "import numpy as np\n",
    "\n",
    "genre = pd.Series([\"classic\",\"Vivaldi\"])\n",
    "genre1 = pd.Series([\"metal\",\"Metallica\"])\n",
    "genre2 = pd.Series([\"rap\",\"Скриптонит\"])\n",
    "genre3 = pd.Series([\"shanson\",\"Михаил круг\"])\n",
    "\n",
    "dt_frame = pd.DataFrame([genre,genre1,genre2,genre3])\n",
    "dt_frame.columns =[\"Жанр\",\"Исполнитель\"]\n",
    "\n",
    "dt_frame.index = [1,2,3,4]\n",
    "\n",
    "dt_frame.to_csv(\"Залупаговна\")"
   ]
  },
  {
   "cell_type": "code",
   "execution_count": null,
   "id": "862b8917",
   "metadata": {},
   "outputs": [],
   "source": []
  }
 ],
 "metadata": {
  "kernelspec": {
   "display_name": "Python 3 (ipykernel)",
   "language": "python",
   "name": "python3"
  },
  "language_info": {
   "codemirror_mode": {
    "name": "ipython",
    "version": 3
   },
   "file_extension": ".py",
   "mimetype": "text/x-python",
   "name": "python",
   "nbconvert_exporter": "python",
   "pygments_lexer": "ipython3",
   "version": "3.11.4"
  }
 },
 "nbformat": 4,
 "nbformat_minor": 5
}
