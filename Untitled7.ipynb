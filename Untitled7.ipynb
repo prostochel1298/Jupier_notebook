{
 "cells": [
  {
   "cell_type": "code",
   "execution_count": 24,
   "id": "9f4166a8",
   "metadata": {},
   "outputs": [
    {
     "ename": "ValueError",
     "evalue": "setting an array element with a sequence. The requested array has an inhomogeneous shape after 1 dimensions. The detected shape was (2,) + inhomogeneous part.",
     "output_type": "error",
     "traceback": [
      "\u001b[1;31m---------------------------------------------------------------------------\u001b[0m",
      "\u001b[1;31mValueError\u001b[0m                                Traceback (most recent call last)",
      "Cell \u001b[1;32mIn[24], line 22\u001b[0m\n\u001b[0;32m     19\u001b[0m     \u001b[38;5;28;01melse\u001b[39;00m:\n\u001b[0;32m     20\u001b[0m         pers2\u001b[38;5;241m.\u001b[39mappend(i)\n\u001b[1;32m---> 22\u001b[0m dt_frame1 \u001b[38;5;241m=\u001b[39m pd\u001b[38;5;241m.\u001b[39mDataFrame(np\u001b[38;5;241m.\u001b[39marange([pers1,year]))\n",
      "\u001b[1;31mValueError\u001b[0m: setting an array element with a sequence. The requested array has an inhomogeneous shape after 1 dimensions. The detected shape was (2,) + inhomogeneous part."
     ]
    }
   ],
   "source": [
    "import pandas as pd\n",
    "import numpy as np\n",
    "year = \"1946\"\n",
    "pers = pd.read_csv(\"очкоговна\",index_col=year)\n",
    "gender_woman = [\"Сьюзен Сарандон\",\"Кэти Бэйтс\",\"Ирина Винер\",\"Светлана Крючкова\",\n",
    "                \"Голди Хоун\",\"Хелен Миррен\",\"Лариса Рубальская\",\"Гленн Клоуз\",\"Наталья Гударева\"]\n",
    "gender_man = [\"Алан Рикман\",\"Тимоти Далтон\",\"Дайан Китон\",\"Стивен Спилберг\",\"Сильвестр Сталлоне\",\"Жерар Депардье\",\n",
    "            \"Жан Рено\",\"Михаил Веллер\",\"Валерий Харламов\",\"Билл Мюррей\",\"Сергей Лавров\",\"Борис Невзоров\",\"Борис Бурда\",\"Стив Мартин\",\"Максим Дунаевский\",\n",
    "            \"Родриго Дутерте\",\"Сэм Нилл\",\"Джеймс Вудс\",\"Кевин Клайн\",\"Пауло Коэльо\",\"Стивен Кинг\",\"Джереми Айронс\",\"Михаил Барышников\",\"Михаил Задорнов\",\n",
    "            \"Джон Карпентер\",\"Сэмюэл Л. Джексон\"]\n",
    "pers1 = list()\n",
    "pers2 = list()\n",
    "\n",
    "ye = list(pers.index[:6])\n",
    "\n",
    "for i in ye:\n",
    "    if i in gender_woman:\n",
    "        pers1.append(i)\n",
    "    else:\n",
    "        pers2.append(i)\n",
    "        \n",
    "\n"
   ]
  },
  {
   "cell_type": "code",
   "execution_count": null,
   "id": "92c05d08",
   "metadata": {},
   "outputs": [],
   "source": []
  }
 ],
 "metadata": {
  "kernelspec": {
   "display_name": "Python 3 (ipykernel)",
   "language": "python",
   "name": "python3"
  },
  "language_info": {
   "codemirror_mode": {
    "name": "ipython",
    "version": 3
   },
   "file_extension": ".py",
   "mimetype": "text/x-python",
   "name": "python",
   "nbconvert_exporter": "python",
   "pygments_lexer": "ipython3",
   "version": "3.11.4"
  }
 },
 "nbformat": 4,
 "nbformat_minor": 5
}
